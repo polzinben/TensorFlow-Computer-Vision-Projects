{
 "cells": [
  {
   "cell_type": "markdown",
   "metadata": {
    "id": "6Xzeu5WIxNoT"
   },
   "source": [
    "# MNIST Handwritten Digits Dataset #\n",
    "## Hello World of Computer Vision ##\n",
    "\n",
    "Great educational dataset used to practice fundamental computer vision concepts with TensorFlow."
   ]
  },
  {
   "cell_type": "code",
   "execution_count": 1,
   "metadata": {
    "executionInfo": {
     "elapsed": 150,
     "status": "ok",
     "timestamp": 1620494639464,
     "user": {
      "displayName": "Ben Polzin",
      "photoUrl": "",
      "userId": "04684120858633082846"
     },
     "user_tz": 300
    },
    "id": "HeEEx2Zqxagq"
   },
   "outputs": [],
   "source": [
    "import numpy as np\n",
    "import pandas as pd\n",
    "import tensorflow as tf\n",
    "import csv\n",
    "import matplotlib.pyplot as plt\n",
    "%matplotlib inline"
   ]
  },
  {
   "cell_type": "code",
   "execution_count": 2,
   "metadata": {
    "executionInfo": {
     "elapsed": 1042,
     "status": "ok",
     "timestamp": 1620494640363,
     "user": {
      "displayName": "Ben Polzin",
      "photoUrl": "",
      "userId": "04684120858633082846"
     },
     "user_tz": 300
    },
    "id": "d-h67o6p0YbT"
   },
   "outputs": [],
   "source": [
    "# Load in the MNIST dataset\n",
    "(x_train, y_train), (x_test, y_test) = tf.keras.datasets.mnist.load_data(path='mnist.npz')\n",
    "# normalize the data\n",
    "x_train, x_test = x_train / 255., x_test / 255."
   ]
  },
  {
   "cell_type": "code",
   "execution_count": 3,
   "metadata": {
    "colab": {
     "base_uri": "https://localhost:8080/"
    },
    "executionInfo": {
     "elapsed": 1035,
     "status": "ok",
     "timestamp": 1620494640364,
     "user": {
      "displayName": "Ben Polzin",
      "photoUrl": "",
      "userId": "04684120858633082846"
     },
     "user_tz": 300
    },
    "id": "YtaAR7VD2rcr",
    "outputId": "7f3fae6a-1cb1-4018-b4ef-d0faacf2c3ce"
   },
   "outputs": [
    {
     "data": {
      "text/plain": [
       "(60000, 28, 28)"
      ]
     },
     "execution_count": 3,
     "metadata": {},
     "output_type": "execute_result"
    }
   ],
   "source": [
    "# check the shape\n",
    "x_train.shape"
   ]
  },
  {
   "cell_type": "code",
   "execution_count": 4,
   "metadata": {
    "colab": {
     "base_uri": "https://localhost:8080/"
    },
    "executionInfo": {
     "elapsed": 1026,
     "status": "ok",
     "timestamp": 1620494640364,
     "user": {
      "displayName": "Ben Polzin",
      "photoUrl": "",
      "userId": "04684120858633082846"
     },
     "user_tz": 300
    },
    "id": "-niuf-5L2vP8",
    "outputId": "010dd76a-43b9-4540-8283-11f941088111"
   },
   "outputs": [
    {
     "data": {
      "text/plain": [
       "(10000, 28, 28)"
      ]
     },
     "execution_count": 4,
     "metadata": {},
     "output_type": "execute_result"
    }
   ],
   "source": [
    "# looks like 60,000 training images and 10,000 test images, 28 pixels by 28 pixels black and white\n",
    "x_test.shape"
   ]
  },
  {
   "cell_type": "code",
   "execution_count": 5,
   "metadata": {
    "colab": {
     "base_uri": "https://localhost:8080/",
     "height": 281
    },
    "executionInfo": {
     "elapsed": 1174,
     "status": "ok",
     "timestamp": 1620494640522,
     "user": {
      "displayName": "Ben Polzin",
      "photoUrl": "",
      "userId": "04684120858633082846"
     },
     "user_tz": 300
    },
    "id": "nUsFOV1l8l3S",
    "outputId": "b3e8782a-b340-4d1e-acef-dc7282606c29"
   },
   "outputs": [
    {
     "data": {
      "image/png": "[encoded data removed]",
      "text/plain": [
       "<Figure size 432x288 with 2 Axes>"
      ]
     },
     "metadata": {
      "needs_background": "light"
     },
     "output_type": "display_data"
    }
   ],
   "source": [
    "# Take a look at the data using the first entry as an example\n",
    "x = x_train[0]\n",
    "\n",
    "plt.figure()\n",
    "plt.title(\"Example Image\")\n",
    "plt.imshow(x, cmap=\"gray\")\n",
    "plt.colorbar()\n",
    "plt.show()"
   ]
  },
  {
   "cell_type": "markdown",
   "metadata": {
    "id": "lxdAeBzc9w6y"
   },
   "source": [
    "Okay great, we have a dataset of very basic handwritten digits.  Now we will build a model to classify them!"
   ]
  },
  {
   "cell_type": "code",
   "execution_count": 6,
   "metadata": {
    "executionInfo": {
     "elapsed": 1167,
     "status": "ok",
     "timestamp": 1620494640523,
     "user": {
      "displayName": "Ben Polzin",
      "photoUrl": "",
      "userId": "04684120858633082846"
     },
     "user_tz": 300
    },
    "id": "j2SQX_xu0yhZ"
   },
   "outputs": [],
   "source": [
    "# Set up a callback to automate training to a desired accuracy\n",
    "desired_acc = 0.9999\n",
    "\n",
    "class myCallback(tf.keras.callbacks.Callback):\n",
    "  def on_epoch_end(self, epoch, logs={}):\n",
    "    if(logs.get('accuracy')>desired_acc):\n",
    "      print('\\nReached 99.99% accuracy so cancelling training!')\n",
    "      self.model.stop_training = True"
   ]
  },
  {
   "cell_type": "code",
   "execution_count": 7,
   "metadata": {
    "executionInfo": {
     "elapsed": 1237,
     "status": "ok",
     "timestamp": 1620494640600,
     "user": {
      "displayName": "Ben Polzin",
      "photoUrl": "",
      "userId": "04684120858633082846"
     },
     "user_tz": 300
    },
    "id": "XHy8JH3x2FZq"
   },
   "outputs": [],
   "source": [
    "# Set up callback\n",
    "callbacks = myCallback()\n",
    "\n",
    "# Build the model from scratch\n",
    "model = tf.keras.models.Sequential([\n",
    "                                    # Flatten the input\n",
    "                                    tf.keras.layers.Flatten(input_shape=(28,28)),\n",
    "                                    # Add hidden layers\n",
    "                                    tf.keras.layers.Dense(128, activation='relu'),\n",
    "                                    tf.keras.layers.Dense(256, activation='relu'),\n",
    "                                    tf.keras.layers.Dense(512, activation='relu'),\n",
    "                                    tf.keras.layers.Dense(256, activation='relu'),\n",
    "                                    tf.keras.layers.Dense(128, activation='relu'),\n",
    "                                    # Softmax output layer due to multiclass \n",
    "                                    tf.keras.layers.Dense(10, activation='softmax'),\n",
    "])"
   ]
  },
  {
   "cell_type": "code",
   "execution_count": 8,
   "metadata": {
    "executionInfo": {
     "elapsed": 1315,
     "status": "ok",
     "timestamp": 1620494640685,
     "user": {
      "displayName": "Ben Polzin",
      "photoUrl": "",
      "userId": "04684120858633082846"
     },
     "user_tz": 300
    },
    "id": "7lJQjk8L3N2h"
   },
   "outputs": [],
   "source": [
    "# compile the model with Adam optimizer and categorical cross entropy as it is a multiclass problem\n",
    "model.compile(optimizer='adam', loss='sparse_categorical_crossentropy',metrics=['accuracy'])"
   ]
  },
  {
   "cell_type": "code",
   "execution_count": 9,
   "metadata": {
    "colab": {
     "base_uri": "https://localhost:8080/"
    },
    "executionInfo": {
     "elapsed": 1596249,
     "status": "ok",
     "timestamp": 1620496235629,
     "user": {
      "displayName": "Ben Polzin",
      "photoUrl": "",
      "userId": "04684120858633082846"
     },
     "user_tz": 300
    },
    "id": "QZiZVj_53ciG",
    "outputId": "41ad9934-d339-4b80-e691-42fb8767b2be"
   },
   "outputs": [
    {
     "name": "stdout",
     "output_type": "stream",
     "text": [
      "Epoch 1/100\n",
      "1875/1875 [==============================] - 12s 6ms/step - loss: 0.4003 - accuracy: 0.8772 - val_loss: 0.1358 - val_accuracy: 0.9580\n",
      "Epoch 2/100\n",
      "1875/1875 [==============================] - 9s 5ms/step - loss: 0.1179 - accuracy: 0.9647 - val_loss: 0.1337 - val_accuracy: 0.9621\n",
      "Epoch 3/100\n",
      "1875/1875 [==============================] - 9s 5ms/step - loss: 0.0879 - accuracy: 0.9743 - val_loss: 0.1071 - val_accuracy: 0.9715\n",
      "Epoch 4/100\n",
      "1875/1875 [==============================] - 9s 5ms/step - loss: 0.0706 - accuracy: 0.9800 - val_loss: 0.0956 - val_accuracy: 0.9736\n",
      "Epoch 5/100\n",
      "1875/1875 [==============================] - 9s 5ms/step - loss: 0.0558 - accuracy: 0.9841 - val_loss: 0.0946 - val_accuracy: 0.9731\n",
      "Epoch 6/100\n",
      "1875/1875 [==============================] - 9s 5ms/step - loss: 0.0506 - accuracy: 0.9853 - val_loss: 0.0944 - val_accuracy: 0.9783\n",
      "Epoch 7/100\n",
      "1875/1875 [==============================] - 9s 5ms/step - loss: 0.0430 - accuracy: 0.9876 - val_loss: 0.0876 - val_accuracy: 0.9770\n",
      "Epoch 8/100\n",
      "1875/1875 [==============================] - 9s 5ms/step - loss: 0.0352 - accuracy: 0.9901 - val_loss: 0.1163 - val_accuracy: 0.9717\n",
      "Epoch 9/100\n",
      "1875/1875 [==============================] - 10s 5ms/step - loss: 0.0328 - accuracy: 0.9906 - val_loss: 0.0949 - val_accuracy: 0.9752\n",
      "Epoch 10/100\n",
      "1875/1875 [==============================] - 9s 5ms/step - loss: 0.0295 - accuracy: 0.9911 - val_loss: 0.0999 - val_accuracy: 0.9797\n",
      "Epoch 11/100\n",
      "1875/1875 [==============================] - 9s 5ms/step - loss: 0.0275 - accuracy: 0.9925 - val_loss: 0.1145 - val_accuracy: 0.9780\n",
      "Epoch 12/100\n",
      "1875/1875 [==============================] - 10s 5ms/step - loss: 0.0267 - accuracy: 0.9925 - val_loss: 0.1156 - val_accuracy: 0.9810\n",
      "Epoch 13/100\n",
      "1875/1875 [==============================] - 10s 5ms/step - loss: 0.0224 - accuracy: 0.9935 - val_loss: 0.1205 - val_accuracy: 0.9761\n",
      "Epoch 14/100\n",
      "1875/1875 [==============================] - 10s 5ms/step - loss: 0.0251 - accuracy: 0.9933 - val_loss: 0.0987 - val_accuracy: 0.9839\n",
      "Epoch 15/100\n",
      "1875/1875 [==============================] - 9s 5ms/step - loss: 0.0200 - accuracy: 0.9947 - val_loss: 0.1061 - val_accuracy: 0.9792\n",
      "Epoch 16/100\n",
      "1875/1875 [==============================] - 9s 5ms/step - loss: 0.0176 - accuracy: 0.9943 - val_loss: 0.1220 - val_accuracy: 0.9801\n",
      "Epoch 17/100\n",
      "1875/1875 [==============================] - 9s 5ms/step - loss: 0.0207 - accuracy: 0.9939 - val_loss: 0.1195 - val_accuracy: 0.9795\n",
      "Epoch 18/100\n",
      "1875/1875 [==============================] - 9s 5ms/step - loss: 0.0179 - accuracy: 0.9946 - val_loss: 0.1114 - val_accuracy: 0.9811\n",
      "Epoch 19/100\n",
      "1875/1875 [==============================] - 10s 5ms/step - loss: 0.0177 - accuracy: 0.9955 - val_loss: 0.1212 - val_accuracy: 0.9784\n",
      "Epoch 20/100\n",
      "1875/1875 [==============================] - 9s 5ms/step - loss: 0.0152 - accuracy: 0.9952 - val_loss: 0.1252 - val_accuracy: 0.9804\n",
      "Epoch 21/100\n",
      "1875/1875 [==============================] - 9s 5ms/step - loss: 0.0199 - accuracy: 0.9949 - val_loss: 0.1231 - val_accuracy: 0.9794\n",
      "Epoch 22/100\n",
      "1875/1875 [==============================] - 10s 5ms/step - loss: 0.0206 - accuracy: 0.9946 - val_loss: 0.1105 - val_accuracy: 0.9804\n",
      "Epoch 23/100\n",
      "1875/1875 [==============================] - 10s 5ms/step - loss: 0.0136 - accuracy: 0.9965 - val_loss: 0.1212 - val_accuracy: 0.9818\n",
      "Epoch 24/100\n",
      "1875/1875 [==============================] - 9s 5ms/step - loss: 0.0151 - accuracy: 0.9960 - val_loss: 0.1294 - val_accuracy: 0.9813\n",
      "Epoch 25/100\n",
      "1875/1875 [==============================] - 10s 5ms/step - loss: 0.0148 - accuracy: 0.9970 - val_loss: 0.1466 - val_accuracy: 0.9789\n",
      "Epoch 26/100\n",
      "1875/1875 [==============================] - 9s 5ms/step - loss: 0.0127 - accuracy: 0.9969 - val_loss: 0.1350 - val_accuracy: 0.9788\n",
      "Epoch 27/100\n",
      "1875/1875 [==============================] - 10s 5ms/step - loss: 0.0171 - accuracy: 0.9961 - val_loss: 0.1510 - val_accuracy: 0.9808\n",
      "Epoch 28/100\n",
      "1875/1875 [==============================] - 9s 5ms/step - loss: 0.0096 - accuracy: 0.9974 - val_loss: 0.1517 - val_accuracy: 0.9791\n",
      "Epoch 29/100\n",
      "1875/1875 [==============================] - 10s 5ms/step - loss: 0.0117 - accuracy: 0.9972 - val_loss: 0.1676 - val_accuracy: 0.9806\n",
      "Epoch 30/100\n",
      "1875/1875 [==============================] - 10s 5ms/step - loss: 0.0141 - accuracy: 0.9964 - val_loss: 0.1875 - val_accuracy: 0.9731\n",
      "Epoch 31/100\n",
      "1875/1875 [==============================] - 10s 5ms/step - loss: 0.0180 - accuracy: 0.9955 - val_loss: 0.1684 - val_accuracy: 0.9802\n",
      "Epoch 32/100\n",
      "1875/1875 [==============================] - 9s 5ms/step - loss: 0.0124 - accuracy: 0.9974 - val_loss: 0.2085 - val_accuracy: 0.9783\n",
      "Epoch 33/100\n",
      "1875/1875 [==============================] - 9s 5ms/step - loss: 0.0127 - accuracy: 0.9967 - val_loss: 0.2269 - val_accuracy: 0.9807\n",
      "Epoch 34/100\n",
      "1875/1875 [==============================] - 10s 5ms/step - loss: 0.0148 - accuracy: 0.9967 - val_loss: 0.2154 - val_accuracy: 0.9775\n",
      "Epoch 35/100\n",
      "1875/1875 [==============================] - 9s 5ms/step - loss: 0.0163 - accuracy: 0.9963 - val_loss: 0.2222 - val_accuracy: 0.9804\n",
      "Epoch 36/100\n",
      "1875/1875 [==============================] - 10s 5ms/step - loss: 0.0157 - accuracy: 0.9966 - val_loss: 0.1765 - val_accuracy: 0.9774\n",
      "Epoch 37/100\n",
      "1875/1875 [==============================] - 9s 5ms/step - loss: 0.0117 - accuracy: 0.9969 - val_loss: 0.1545 - val_accuracy: 0.9805\n",
      "Epoch 38/100\n",
      "1875/1875 [==============================] - 5s 3ms/step - loss: 0.0106 - accuracy: 0.9976 - val_loss: 0.1950 - val_accuracy: 0.9800\n",
      "Epoch 39/100\n",
      "1875/1875 [==============================] - 5s 3ms/step - loss: 0.0178 - accuracy: 0.9966 - val_loss: 0.1814 - val_accuracy: 0.9818\n",
      "Epoch 40/100\n",
      "1875/1875 [==============================] - 5s 3ms/step - loss: 0.0077 - accuracy: 0.9980 - val_loss: 0.2050 - val_accuracy: 0.9830\n",
      "Epoch 41/100\n",
      "1875/1875 [==============================] - 5s 3ms/step - loss: 0.0161 - accuracy: 0.9962 - val_loss: 0.1844 - val_accuracy: 0.9793\n",
      "Epoch 42/100\n",
      "1875/1875 [==============================] - 5s 3ms/step - loss: 0.0153 - accuracy: 0.9970 - val_loss: 0.1533 - val_accuracy: 0.9790\n",
      "Epoch 43/100\n",
      "1875/1875 [==============================] - 5s 3ms/step - loss: 0.0091 - accuracy: 0.9976 - val_loss: 0.1880 - val_accuracy: 0.9809\n",
      "Epoch 44/100\n",
      "1875/1875 [==============================] - 5s 3ms/step - loss: 0.0187 - accuracy: 0.9976 - val_loss: 0.1958 - val_accuracy: 0.9823\n",
      "Epoch 45/100\n",
      "1875/1875 [==============================] - 5s 3ms/step - loss: 0.0087 - accuracy: 0.9980 - val_loss: 0.2099 - val_accuracy: 0.9808\n",
      "Epoch 46/100\n",
      "1875/1875 [==============================] - 5s 3ms/step - loss: 0.0115 - accuracy: 0.9975 - val_loss: 0.1645 - val_accuracy: 0.9829\n",
      "Epoch 47/100\n",
      "1875/1875 [==============================] - 5s 3ms/step - loss: 0.0140 - accuracy: 0.9970 - val_loss: 0.2175 - val_accuracy: 0.9803\n",
      "Epoch 48/100\n",
      "1875/1875 [==============================] - 5s 3ms/step - loss: 0.0121 - accuracy: 0.9972 - val_loss: 0.2170 - val_accuracy: 0.9819\n",
      "Epoch 49/100\n",
      "1875/1875 [==============================] - 6s 3ms/step - loss: 0.0060 - accuracy: 0.9984 - val_loss: 0.2258 - val_accuracy: 0.9780\n",
      "Epoch 50/100\n",
      "1875/1875 [==============================] - 5s 3ms/step - loss: 0.0081 - accuracy: 0.9979 - val_loss: 0.1946 - val_accuracy: 0.9809\n",
      "Epoch 51/100\n",
      "1875/1875 [==============================] - 5s 3ms/step - loss: 0.0131 - accuracy: 0.9975 - val_loss: 0.1973 - val_accuracy: 0.9836\n",
      "Epoch 52/100\n",
      "1875/1875 [==============================] - 5s 3ms/step - loss: 0.0055 - accuracy: 0.9986 - val_loss: 0.2554 - val_accuracy: 0.9785\n",
      "Epoch 53/100\n",
      "1875/1875 [==============================] - 5s 3ms/step - loss: 0.0213 - accuracy: 0.9967 - val_loss: 0.2067 - val_accuracy: 0.9826\n",
      "Epoch 54/100\n",
      "1875/1875 [==============================] - 5s 3ms/step - loss: 0.0078 - accuracy: 0.9981 - val_loss: 0.2374 - val_accuracy: 0.9824\n",
      "Epoch 55/100\n",
      "1875/1875 [==============================] - 5s 3ms/step - loss: 0.0107 - accuracy: 0.9984 - val_loss: 0.2552 - val_accuracy: 0.9810\n",
      "Epoch 56/100\n",
      "1875/1875 [==============================] - 5s 3ms/step - loss: 0.0144 - accuracy: 0.9974 - val_loss: 0.2940 - val_accuracy: 0.9812\n",
      "Epoch 57/100\n"
     ]
    },
    {
     "name": "stdout",
     "output_type": "stream",
     "text": [
      "1875/1875 [==============================] - 5s 3ms/step - loss: 0.0105 - accuracy: 0.9978 - val_loss: 0.4900 - val_accuracy: 0.9738\n",
      "Epoch 58/100\n",
      "1875/1875 [==============================] - 5s 3ms/step - loss: 0.0156 - accuracy: 0.9970 - val_loss: 0.1894 - val_accuracy: 0.9804\n",
      "Epoch 59/100\n",
      "1875/1875 [==============================] - 5s 3ms/step - loss: 0.0067 - accuracy: 0.9986 - val_loss: 0.2661 - val_accuracy: 0.9813\n",
      "Epoch 60/100\n",
      "1875/1875 [==============================] - 5s 3ms/step - loss: 0.0119 - accuracy: 0.9976 - val_loss: 0.2591 - val_accuracy: 0.9822\n",
      "Epoch 61/100\n",
      "1875/1875 [==============================] - 5s 2ms/step - loss: 0.0131 - accuracy: 0.9981 - val_loss: 0.2948 - val_accuracy: 0.9695\n",
      "Epoch 62/100\n",
      "1875/1875 [==============================] - 5s 3ms/step - loss: 0.0111 - accuracy: 0.9972 - val_loss: 0.2722 - val_accuracy: 0.9805\n",
      "Epoch 63/100\n",
      "1875/1875 [==============================] - 5s 2ms/step - loss: 0.0122 - accuracy: 0.9981 - val_loss: 0.2046 - val_accuracy: 0.9807\n",
      "Epoch 64/100\n",
      "1875/1875 [==============================] - 5s 3ms/step - loss: 0.0064 - accuracy: 0.9987 - val_loss: 0.2875 - val_accuracy: 0.9815\n",
      "Epoch 65/100\n",
      "1875/1875 [==============================] - 6s 3ms/step - loss: 0.0076 - accuracy: 0.9984 - val_loss: 0.2889 - val_accuracy: 0.9806\n",
      "Epoch 66/100\n",
      "1875/1875 [==============================] - 5s 3ms/step - loss: 0.0072 - accuracy: 0.9987 - val_loss: 0.2800 - val_accuracy: 0.9761\n",
      "Epoch 67/100\n",
      "1875/1875 [==============================] - 7s 4ms/step - loss: 0.0072 - accuracy: 0.9982 - val_loss: 0.2805 - val_accuracy: 0.9808\n",
      "Epoch 68/100\n",
      "1875/1875 [==============================] - 6s 3ms/step - loss: 0.0061 - accuracy: 0.9986 - val_loss: 0.3360 - val_accuracy: 0.9800\n",
      "Epoch 69/100\n",
      "1875/1875 [==============================] - 6s 3ms/step - loss: 0.0136 - accuracy: 0.9976 - val_loss: 0.4473 - val_accuracy: 0.9799\n",
      "Epoch 70/100\n",
      "1875/1875 [==============================] - 5s 3ms/step - loss: 0.0094 - accuracy: 0.9980 - val_loss: 0.2503 - val_accuracy: 0.9819\n",
      "Epoch 71/100\n",
      "1875/1875 [==============================] - 8s 4ms/step - loss: 0.0061 - accuracy: 0.9987 - val_loss: 0.3305 - val_accuracy: 0.9796\n",
      "Epoch 72/100\n",
      "1875/1875 [==============================] - 6s 3ms/step - loss: 0.0128 - accuracy: 0.9978 - val_loss: 0.3733 - val_accuracy: 0.9816\n",
      "Epoch 73/100\n",
      "1875/1875 [==============================] - 7s 4ms/step - loss: 0.0108 - accuracy: 0.9980 - val_loss: 0.3287 - val_accuracy: 0.9817\n",
      "Epoch 74/100\n",
      "1875/1875 [==============================] - 6s 3ms/step - loss: 0.0013 - accuracy: 0.9998 - val_loss: 0.3005 - val_accuracy: 0.9797\n",
      "Epoch 75/100\n",
      "1875/1875 [==============================] - 7s 4ms/step - loss: 0.0074 - accuracy: 0.9982 - val_loss: 0.3635 - val_accuracy: 0.9815\n",
      "Epoch 76/100\n",
      "1875/1875 [==============================] - 7s 4ms/step - loss: 0.0094 - accuracy: 0.9984 - val_loss: 0.2869 - val_accuracy: 0.9818\n",
      "Epoch 77/100\n",
      "1875/1875 [==============================] - 5s 3ms/step - loss: 0.0120 - accuracy: 0.9980 - val_loss: 0.2123 - val_accuracy: 0.9815\n",
      "Epoch 78/100\n",
      "1875/1875 [==============================] - 6s 3ms/step - loss: 0.0068 - accuracy: 0.9983 - val_loss: 0.2587 - val_accuracy: 0.9798\n",
      "Epoch 79/100\n",
      "1875/1875 [==============================] - 5s 3ms/step - loss: 0.0049 - accuracy: 0.9993 - val_loss: 0.3348 - val_accuracy: 0.9805\n",
      "Epoch 80/100\n",
      "1875/1875 [==============================] - 5s 3ms/step - loss: 0.0132 - accuracy: 0.9978 - val_loss: 0.2735 - val_accuracy: 0.9788\n",
      "Epoch 81/100\n",
      "1875/1875 [==============================] - 6s 3ms/step - loss: 0.0073 - accuracy: 0.9984 - val_loss: 0.3504 - val_accuracy: 0.9791\n",
      "Epoch 82/100\n",
      "1875/1875 [==============================] - 6s 3ms/step - loss: 0.0078 - accuracy: 0.9988 - val_loss: 0.2842 - val_accuracy: 0.9822\n",
      "Epoch 83/100\n",
      "1875/1875 [==============================] - 6s 3ms/step - loss: 0.0026 - accuracy: 0.9994 - val_loss: 0.4303 - val_accuracy: 0.9814\n",
      "Epoch 84/100\n",
      "1875/1875 [==============================] - 6s 3ms/step - loss: 0.0181 - accuracy: 0.9978 - val_loss: 0.2710 - val_accuracy: 0.9818\n",
      "Epoch 85/100\n",
      "1875/1875 [==============================] - 7s 4ms/step - loss: 0.0132 - accuracy: 0.9978 - val_loss: 0.3177 - val_accuracy: 0.9796\n",
      "Epoch 86/100\n",
      "1875/1875 [==============================] - 7s 4ms/step - loss: 0.0057 - accuracy: 0.9988 - val_loss: 0.3795 - val_accuracy: 0.9794\n",
      "Epoch 87/100\n",
      "1875/1875 [==============================] - 7s 4ms/step - loss: 0.0150 - accuracy: 0.9975 - val_loss: 0.3365 - val_accuracy: 0.9810\n",
      "Epoch 88/100\n",
      "1875/1875 [==============================] - 6s 3ms/step - loss: 0.0063 - accuracy: 0.9990 - val_loss: 0.2852 - val_accuracy: 0.9789\n",
      "Epoch 89/100\n",
      "1875/1875 [==============================] - 6s 3ms/step - loss: 0.0137 - accuracy: 0.9980 - val_loss: 0.2802 - val_accuracy: 0.9809\n",
      "Epoch 90/100\n",
      "1875/1875 [==============================] - 8s 4ms/step - loss: 0.0069 - accuracy: 0.9989 - val_loss: 0.3298 - val_accuracy: 0.9813\n",
      "Epoch 91/100\n",
      "1875/1875 [==============================] - 8s 4ms/step - loss: 0.0122 - accuracy: 0.9982 - val_loss: 0.3486 - val_accuracy: 0.9792\n",
      "Epoch 92/100\n",
      "1875/1875 [==============================] - 6s 3ms/step - loss: 0.0050 - accuracy: 0.9987 - val_loss: 0.3380 - val_accuracy: 0.9824\n",
      "Epoch 93/100\n",
      "1875/1875 [==============================] - 5s 3ms/step - loss: 0.0088 - accuracy: 0.9988 - val_loss: 0.3481 - val_accuracy: 0.9807\n",
      "Epoch 94/100\n",
      "1875/1875 [==============================] - 5s 3ms/step - loss: 0.0063 - accuracy: 0.9988 - val_loss: 0.3788 - val_accuracy: 0.9786\n",
      "Epoch 95/100\n",
      "1875/1875 [==============================] - 6s 3ms/step - loss: 0.0110 - accuracy: 0.9983 - val_loss: 0.2933 - val_accuracy: 0.9833\n",
      "Epoch 96/100\n",
      "1875/1875 [==============================] - 6s 3ms/step - loss: 0.0057 - accuracy: 0.9989 - val_loss: 0.4484 - val_accuracy: 0.9838\n",
      "Epoch 97/100\n",
      "1875/1875 [==============================] - 6s 3ms/step - loss: 0.0161 - accuracy: 0.9979 - val_loss: 0.2922 - val_accuracy: 0.9830\n",
      "Epoch 98/100\n",
      "1875/1875 [==============================] - 5s 3ms/step - loss: 0.0052 - accuracy: 0.9988 - val_loss: 0.3293 - val_accuracy: 0.9831\n",
      "Epoch 99/100\n",
      "1875/1875 [==============================] - 6s 3ms/step - loss: 0.0038 - accuracy: 0.9992 - val_loss: 0.3865 - val_accuracy: 0.9837\n",
      "Epoch 100/100\n",
      "1875/1875 [==============================] - 6s 3ms/step - loss: 0.0047 - accuracy: 0.9989 - val_loss: 0.5604 - val_accuracy: 0.9785\n"
     ]
    }
   ],
   "source": [
    "# fit the model, run for up to 100 epochs or until 99.99% accuracy is reached\n",
    "history = model.fit(x_train,y_train,epochs=100,validation_data=(x_test,y_test),callbacks=[callbacks])"
   ]
  },
  {
   "cell_type": "code",
   "execution_count": 10,
   "metadata": {
    "colab": {
     "base_uri": "https://localhost:8080/",
     "height": 298
    },
    "executionInfo": {
     "elapsed": 1596552,
     "status": "ok",
     "timestamp": 1620496235940,
     "user": {
      "displayName": "Ben Polzin",
      "photoUrl": "",
      "userId": "04684120858633082846"
     },
     "user_tz": 300
    },
    "id": "V5rvqWKX3hvZ",
    "outputId": "189c1695-2726-44d9-cfca-d91f190772a7"
   },
   "outputs": [
    {
     "data": {
      "image/png": "[encoded data removed]",
      "text/plain": [
       "<Figure size 432x288 with 1 Axes>"
      ]
     },
     "metadata": {
      "needs_background": "light"
     },
     "output_type": "display_data"
    },
    {
     "data": {
      "text/plain": [
       "<Figure size 432x288 with 0 Axes>"
      ]
     },
     "metadata": {},
     "output_type": "display_data"
    }
   ],
   "source": [
    "# plot the results\n",
    "acc = history.history['accuracy']\n",
    "val_acc = history.history['val_accuracy']\n",
    "loss = history.history['loss']\n",
    "val_loss = history.history['val_loss']\n",
    "\n",
    "epochs = range(len(acc))\n",
    "\n",
    "plt.plot(epochs, acc, 'r', label='Training accuracy')\n",
    "plt.plot(epochs, val_acc, 'b', label='Validation accuracy')\n",
    "plt.title('Training and validation accuracy')\n",
    "plt.legend(loc=0)\n",
    "plt.figure()\n",
    "\n",
    "\n",
    "plt.show()"
   ]
  },
  {
   "cell_type": "markdown",
   "metadata": {
    "id": "U2y0l1qc-TsX"
   },
   "source": [
    "Awesome!  The Hello World of Computer Vision!  Great example of the basic fundamentals of working with TensorFlow.  \n",
    "\n",
    "Evaluating the performance, as we can see unfortunately we did not hit that 99.9% accuracy, and looking at our curves we can see there is room for improvement.  But this was just a brief introduction and a fairly simple neural net that still attained 99.8% training and 98.3% testing accuracy, not too bad!\n",
    "\n",
    "Now on to bigger challenges!"
   ]
  },
  {
   "cell_type": "code",
   "execution_count": null,
   "metadata": {
    "id": "WTWas9HQLYce"
   },
   "outputs": [],
   "source": []
  }
 ],
 "metadata": {
  "colab": {
   "authorship_tag": "ABX9TyMp2YwXQqXdHa4l6AeuCbIO",
   "mount_file_id": "1ocXSLypYlLsT8LvT2GEcA9O80tNNhjOa",
   "name": "MNIST-hello-world.ipynb",
   "provenance": []
  },
  "kernelspec": {
   "display_name": "tensorflow",
   "language": "python",
   "name": "tensorflow"
  },
  "language_info": {
   "codemirror_mode": {
    "name": "ipython",
    "version": 3
   },
   "file_extension": ".py",
   "mimetype": "text/x-python",
   "name": "python",
   "nbconvert_exporter": "python",
   "pygments_lexer": "ipython3",
   "version": "3.9.4"
  }
 },
 "nbformat": 4,
 "nbformat_minor": 1
}
